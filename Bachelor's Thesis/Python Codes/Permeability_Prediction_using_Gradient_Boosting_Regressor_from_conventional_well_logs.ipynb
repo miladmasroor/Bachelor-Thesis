{
  "cells": [
    {
      "cell_type": "markdown",
      "source": [
        "**Description:**\n",
        "\n",
        "This Python code implements a Gradient Boosting Regressor to predict permeability from conventional well logs. It uses a training dataset with train, test, and validation samples to train the model and a separate blind dataset to validate the model's performance."
      ],
      "metadata": {
        "id": "lgpckeLxfqH5"
      }
    },
    {
      "cell_type": "code",
      "execution_count": null,
      "metadata": {
        "id": "_dKgoWncfDsw"
      },
      "outputs": [],
      "source": [
        "import numpy as np\n",
        "import pandas as pd\n",
        "import matplotlib.pyplot as plt\n",
        "from numpy import array\n",
        "from numpy import mean\n",
        "from numpy import std\n",
        "from sklearn.ensemble import GradientBoostingRegressor\n",
        "from sklearn.inspection import permutation_importance\n",
        "from sklearn.metrics import mean_squared_error\n",
        "from sklearn.model_selection import train_test_split\n",
        "from scipy.io import savemat\n",
        "%matplotlib inline"
      ]
    },
    {
      "cell_type": "markdown",
      "metadata": {
        "id": "bs6vat3pfDsz"
      },
      "source": [
        "# Load the data"
      ]
    },
    {
      "cell_type": "code",
      "execution_count": null,
      "metadata": {
        "id": "tolmxnlGfDs0"
      },
      "outputs": [],
      "source": [
        "df = pd.read_excel('E:/aks haye maghale/gbdtr/data.xlsx')\n",
        "df_BW = pd.read_excel('E:/aks haye maghale/gbdtr/data_bw.xlsx')"
      ]
    },
    {
      "cell_type": "code",
      "execution_count": null,
      "metadata": {
        "id": "GDV-8J0GfDs0",
        "outputId": "b9eab37c-2332-4f30-b474-fa2200b7344d"
      },
      "outputs": [
        {
          "data": {
            "text/html": [
              "<div>\n",
              "<style scoped>\n",
              "    .dataframe tbody tr th:only-of-type {\n",
              "        vertical-align: middle;\n",
              "    }\n",
              "\n",
              "    .dataframe tbody tr th {\n",
              "        vertical-align: top;\n",
              "    }\n",
              "\n",
              "    .dataframe thead th {\n",
              "        text-align: right;\n",
              "    }\n",
              "</style>\n",
              "<table border=\"1\" class=\"dataframe\">\n",
              "  <thead>\n",
              "    <tr style=\"text-align: right;\">\n",
              "      <th></th>\n",
              "      <th>CGR</th>\n",
              "      <th>NPHI</th>\n",
              "      <th>PEF</th>\n",
              "      <th>RESD</th>\n",
              "      <th>RESX</th>\n",
              "      <th>RHOB</th>\n",
              "      <th>SGR</th>\n",
              "      <th>log(NMR_PERM)</th>\n",
              "    </tr>\n",
              "  </thead>\n",
              "  <tbody>\n",
              "    <tr>\n",
              "      <th>0</th>\n",
              "      <td>0.169355</td>\n",
              "      <td>0.275185</td>\n",
              "      <td>0.603290</td>\n",
              "      <td>0.358444</td>\n",
              "      <td>0.494000</td>\n",
              "      <td>0.503922</td>\n",
              "      <td>0.151025</td>\n",
              "      <td>0.624142</td>\n",
              "    </tr>\n",
              "    <tr>\n",
              "      <th>1</th>\n",
              "      <td>0.177758</td>\n",
              "      <td>0.279660</td>\n",
              "      <td>0.603561</td>\n",
              "      <td>0.351080</td>\n",
              "      <td>0.490961</td>\n",
              "      <td>0.496511</td>\n",
              "      <td>0.152631</td>\n",
              "      <td>0.624891</td>\n",
              "    </tr>\n",
              "    <tr>\n",
              "      <th>2</th>\n",
              "      <td>0.201791</td>\n",
              "      <td>0.305595</td>\n",
              "      <td>0.601401</td>\n",
              "      <td>0.336133</td>\n",
              "      <td>0.469396</td>\n",
              "      <td>0.483760</td>\n",
              "      <td>0.167486</td>\n",
              "      <td>0.610773</td>\n",
              "    </tr>\n",
              "    <tr>\n",
              "      <th>3</th>\n",
              "      <td>0.192143</td>\n",
              "      <td>0.322710</td>\n",
              "      <td>0.597857</td>\n",
              "      <td>0.332302</td>\n",
              "      <td>0.449326</td>\n",
              "      <td>0.479553</td>\n",
              "      <td>0.156186</td>\n",
              "      <td>0.636303</td>\n",
              "    </tr>\n",
              "    <tr>\n",
              "      <th>4</th>\n",
              "      <td>0.193589</td>\n",
              "      <td>0.327439</td>\n",
              "      <td>0.594776</td>\n",
              "      <td>0.336675</td>\n",
              "      <td>0.452110</td>\n",
              "      <td>0.485374</td>\n",
              "      <td>0.158116</td>\n",
              "      <td>0.657730</td>\n",
              "    </tr>\n",
              "  </tbody>\n",
              "</table>\n",
              "</div>"
            ],
            "text/plain": [
              "        CGR      NPHI       PEF      RESD      RESX      RHOB       SGR  \\\n",
              "0  0.169355  0.275185  0.603290  0.358444  0.494000  0.503922  0.151025   \n",
              "1  0.177758  0.279660  0.603561  0.351080  0.490961  0.496511  0.152631   \n",
              "2  0.201791  0.305595  0.601401  0.336133  0.469396  0.483760  0.167486   \n",
              "3  0.192143  0.322710  0.597857  0.332302  0.449326  0.479553  0.156186   \n",
              "4  0.193589  0.327439  0.594776  0.336675  0.452110  0.485374  0.158116   \n",
              "\n",
              "   log(NMR_PERM)  \n",
              "0       0.624142  \n",
              "1       0.624891  \n",
              "2       0.610773  \n",
              "3       0.636303  \n",
              "4       0.657730  "
            ]
          },
          "execution_count": 168,
          "metadata": {},
          "output_type": "execute_result"
        }
      ],
      "source": [
        "df_BW.head()"
      ]
    },
    {
      "cell_type": "code",
      "execution_count": null,
      "metadata": {
        "id": "9cvzptfMfDs1",
        "outputId": "5e754d83-9ee7-474b-d91e-07ef097dfd94"
      },
      "outputs": [
        {
          "data": {
            "text/html": [
              "<div>\n",
              "<style scoped>\n",
              "    .dataframe tbody tr th:only-of-type {\n",
              "        vertical-align: middle;\n",
              "    }\n",
              "\n",
              "    .dataframe tbody tr th {\n",
              "        vertical-align: top;\n",
              "    }\n",
              "\n",
              "    .dataframe thead th {\n",
              "        text-align: right;\n",
              "    }\n",
              "</style>\n",
              "<table border=\"1\" class=\"dataframe\">\n",
              "  <thead>\n",
              "    <tr style=\"text-align: right;\">\n",
              "      <th></th>\n",
              "      <th>CGR</th>\n",
              "      <th>NPHI</th>\n",
              "      <th>PEF</th>\n",
              "      <th>RESD</th>\n",
              "      <th>RESX</th>\n",
              "      <th>RHOB</th>\n",
              "      <th>SGR</th>\n",
              "      <th>log(NMR_PERM)</th>\n",
              "    </tr>\n",
              "  </thead>\n",
              "  <tbody>\n",
              "    <tr>\n",
              "      <th>0</th>\n",
              "      <td>0.581007</td>\n",
              "      <td>0.187088</td>\n",
              "      <td>0.626319</td>\n",
              "      <td>0.356231</td>\n",
              "      <td>0.292939</td>\n",
              "      <td>0.684603</td>\n",
              "      <td>0.426369</td>\n",
              "      <td>0.144913</td>\n",
              "    </tr>\n",
              "    <tr>\n",
              "      <th>1</th>\n",
              "      <td>0.490225</td>\n",
              "      <td>0.128213</td>\n",
              "      <td>0.666668</td>\n",
              "      <td>0.442034</td>\n",
              "      <td>0.332189</td>\n",
              "      <td>0.719365</td>\n",
              "      <td>0.352876</td>\n",
              "      <td>0.133279</td>\n",
              "    </tr>\n",
              "    <tr>\n",
              "      <th>2</th>\n",
              "      <td>0.411140</td>\n",
              "      <td>0.105342</td>\n",
              "      <td>0.695993</td>\n",
              "      <td>0.436939</td>\n",
              "      <td>0.359368</td>\n",
              "      <td>0.733794</td>\n",
              "      <td>0.288896</td>\n",
              "      <td>0.198111</td>\n",
              "    </tr>\n",
              "    <tr>\n",
              "      <th>3</th>\n",
              "      <td>0.342359</td>\n",
              "      <td>0.101894</td>\n",
              "      <td>0.718780</td>\n",
              "      <td>0.426162</td>\n",
              "      <td>0.370579</td>\n",
              "      <td>0.733531</td>\n",
              "      <td>0.231029</td>\n",
              "      <td>0.272135</td>\n",
              "    </tr>\n",
              "    <tr>\n",
              "      <th>4</th>\n",
              "      <td>0.312703</td>\n",
              "      <td>0.099486</td>\n",
              "      <td>0.731391</td>\n",
              "      <td>0.446326</td>\n",
              "      <td>0.374364</td>\n",
              "      <td>0.722566</td>\n",
              "      <td>0.204826</td>\n",
              "      <td>0.291435</td>\n",
              "    </tr>\n",
              "  </tbody>\n",
              "</table>\n",
              "</div>"
            ],
            "text/plain": [
              "        CGR      NPHI       PEF      RESD      RESX      RHOB       SGR  \\\n",
              "0  0.581007  0.187088  0.626319  0.356231  0.292939  0.684603  0.426369   \n",
              "1  0.490225  0.128213  0.666668  0.442034  0.332189  0.719365  0.352876   \n",
              "2  0.411140  0.105342  0.695993  0.436939  0.359368  0.733794  0.288896   \n",
              "3  0.342359  0.101894  0.718780  0.426162  0.370579  0.733531  0.231029   \n",
              "4  0.312703  0.099486  0.731391  0.446326  0.374364  0.722566  0.204826   \n",
              "\n",
              "   log(NMR_PERM)  \n",
              "0       0.144913  \n",
              "1       0.133279  \n",
              "2       0.198111  \n",
              "3       0.272135  \n",
              "4       0.291435  "
            ]
          },
          "execution_count": 110,
          "metadata": {},
          "output_type": "execute_result"
        }
      ],
      "source": [
        "df.head()"
      ]
    },
    {
      "cell_type": "code",
      "execution_count": null,
      "metadata": {
        "id": "SUYrKjb3fDs1",
        "outputId": "8c3594ad-2090-4e2d-c2dd-dd2e0b60c5ed"
      },
      "outputs": [
        {
          "name": "stdout",
          "output_type": "stream",
          "text": [
            "(6486, 8)\n",
            "(3992, 8)\n"
          ]
        }
      ],
      "source": [
        "Data = df.to_numpy()\n",
        "Data_BW = df_BW.to_numpy()\n",
        "print(Data.shape)\n",
        "print(Data_BW.shape)"
      ]
    },
    {
      "cell_type": "code",
      "execution_count": null,
      "metadata": {
        "id": "NcjlMuw9fDs2",
        "outputId": "336ac1fe-4d87-4deb-f950-3d62a2250e8c"
      },
      "outputs": [
        {
          "name": "stdout",
          "output_type": "stream",
          "text": [
            "X.shape = (6486, 7), y.shape = (6486, 1)\n",
            "X_BW.shape = (3992, 7), y_BW.shape = (3992, 1)\n"
          ]
        }
      ],
      "source": [
        "X = Data[:, :-1]\n",
        "y = Data[:, -1].reshape(-1, 1)\n",
        "\n",
        "X_BW = Data_BW[:, :-1]\n",
        "y_BW = Data_BW[:, -1].reshape(-1, 1)\n",
        "\n",
        "\n",
        "print('X.shape = {}, y.shape = {}'.format(X.shape, y.shape))\n",
        "print('X_BW.shape = {}, y_BW.shape = {}'.format(X_BW.shape, y_BW.shape))"
      ]
    },
    {
      "cell_type": "code",
      "execution_count": null,
      "metadata": {
        "id": "4LGZp_xZfDs2"
      },
      "outputs": [],
      "source": [
        "X_train, X_test, y_train, y_test = train_test_split(\n",
        "    X, y, test_size=0.3, random_state=13)"
      ]
    },
    {
      "cell_type": "code",
      "execution_count": null,
      "metadata": {
        "id": "MMsEqmaUfDs3"
      },
      "outputs": [],
      "source": [
        "params = {'n_estimators': 1000,\n",
        "          'max_depth': 7,\n",
        "          'min_samples_split': 5,\n",
        "          'learning_rate': 0.01,\n",
        "          'loss': 'ls'}"
      ]
    },
    {
      "cell_type": "code",
      "execution_count": null,
      "metadata": {
        "scrolled": true,
        "id": "brlAo79QfDs3",
        "outputId": "0fa5f880-d00e-40d5-8de7-966bbec27d5c"
      },
      "outputs": [
        {
          "name": "stderr",
          "output_type": "stream",
          "text": [
            "C:\\ProgramData\\Anaconda3\\lib\\site-packages\\sklearn\\utils\\validation.py:73: DataConversionWarning: A column-vector y was passed when a 1d array was expected. Please change the shape of y to (n_samples, ), for example using ravel().\n",
            "  return f(**kwargs)\n"
          ]
        },
        {
          "name": "stdout",
          "output_type": "stream",
          "text": [
            "The mean squared error (MSE) on test set: 0.0061\n",
            "The mean squared error (MSE) on train set: 0.0015\n",
            "The mean squared error (MSE) on all set: 0.0029\n",
            "The mean squared error (MSE) on Blind Well set: 0.0087\n"
          ]
        }
      ],
      "source": [
        "reg = GradientBoostingRegressor(**params)\n",
        "reg.fit(X_train, y_train)\n",
        "trainOutputs = reg.predict(X_train)\n",
        "testOutputs = reg.predict(X_test)\n",
        "alldataOutputs = reg.predict(X)\n",
        "BW = reg.predict(X_BW)\n",
        "mse_test = mean_squared_error(y_test, testOutputs)\n",
        "mse_train = mean_squared_error(y_train, trainOutputs)\n",
        "mse_all = mean_squared_error(y, alldataOutputs)\n",
        "mse_BW = mean_squared_error(y_BW, BW)\n",
        "print(\"The mean squared error (MSE) on test set: {:.4f}\".format(mse_test))\n",
        "print(\"The mean squared error (MSE) on train set: {:.4f}\".format(mse_train))\n",
        "print(\"The mean squared error (MSE) on all set: {:.4f}\".format(mse_all))\n",
        "print(\"The mean squared error (MSE) on Blind Well set: {:.4f}\".format(mse_BW))"
      ]
    },
    {
      "cell_type": "code",
      "execution_count": null,
      "metadata": {
        "id": "LFtm3XtSfDs3",
        "outputId": "9a4b1437-fcdd-4387-87af-a4aaee6aed93"
      },
      "outputs": [
        {
          "data": {
            "text/plain": [
              "[<matplotlib.lines.Line2D at 0x18622714f10>]"
            ]
          },
          "execution_count": 248,
          "metadata": {},
          "output_type": "execute_result"
        },
        {
          "data": {
            "image/png": "[encoded data removed]",
            "text/plain": [
              "<Figure size 600x600 with 2 Axes>"
            ]
          },
          "metadata": {
            "needs_background": "light"
          },
          "output_type": "display_data"
        }
      ],
      "source": [
        "plt.figure(figsize = (6,6) , dpi = 100)\n",
        "plt.subplot(2,2,1)\n",
        "plt.plot(BW , 'k' , label='Outputs')\n",
        "plt.plot(y_BW , 'ro' , label='Targets')\n",
        "plt.legend()\n",
        "plt.title('test data')\n",
        "\n",
        "plt.subplot(2,2,2)\n",
        "plt.plot(y_BW,BW,'ko')\n",
        "xmin = np.min([np.min(y_BW) , np.min(BW)])\n",
        "xmax = np.max([np.max(y_BW) , np.max(BW)])\n",
        "plt.plot([xmin , xmax] , [xmin , xmax] , 'b')"
      ]
    },
    {
      "cell_type": "code",
      "execution_count": null,
      "metadata": {
        "id": "Y4sGWP7vfDs4"
      },
      "outputs": [],
      "source": [
        "mdic = {'t_BW':y_BW}\n",
        "savemat(\"matlab_matrix_1.mat\", mdic)"
      ]
    },
    {
      "cell_type": "code",
      "execution_count": null,
      "metadata": {
        "id": "6vTwgcULfDs4"
      },
      "outputs": [],
      "source": [
        "mdic = {'y_BW':BW}\n",
        "savemat(\"matlab_matrix_2.mat\", mdic)"
      ]
    },
    {
      "cell_type": "code",
      "execution_count": null,
      "metadata": {
        "id": "4bhtWVLWfDs4"
      },
      "outputs": [],
      "source": [
        "mdic = {'y':alldataOutputs}\n",
        "savemat(\"matlab_matrix_3.mat\", mdic)"
      ]
    },
    {
      "cell_type": "code",
      "execution_count": null,
      "metadata": {
        "id": "6HpsQABkfDs4"
      },
      "outputs": [],
      "source": [
        "mdic = {'t':y}\n",
        "savemat(\"matlab_matrix_4.mat\", mdic)"
      ]
    },
    {
      "cell_type": "code",
      "execution_count": null,
      "metadata": {
        "id": "x_wMVQ0wfDs4"
      },
      "outputs": [],
      "source": [
        "mdic = {'train_output':trainOutputs}\n",
        "savemat(\"matlab_matrix_5.mat\", mdic)"
      ]
    },
    {
      "cell_type": "code",
      "execution_count": null,
      "metadata": {
        "id": "fsAHmC2lfDs4"
      },
      "outputs": [],
      "source": [
        "mdic = {'train_target':y_train}\n",
        "savemat(\"matlab_matrix_6.mat\", mdic)"
      ]
    },
    {
      "cell_type": "code",
      "execution_count": null,
      "metadata": {
        "id": "NaFGll4RfDs4"
      },
      "outputs": [],
      "source": [
        "mdic = {'test_output':testOutputs}\n",
        "savemat(\"matlab_matrix_7.mat\", mdic)"
      ]
    },
    {
      "cell_type": "code",
      "execution_count": null,
      "metadata": {
        "id": "WC-Wz7V2fDs4"
      },
      "outputs": [],
      "source": [
        "mdic = {'test_target':y_test}\n",
        "savemat(\"matlab_matrix_8.mat\", mdic)"
      ]
    }
  ],
  "metadata": {
    "kernelspec": {
      "display_name": "Python 3",
      "language": "python",
      "name": "python3"
    },
    "language_info": {
      "codemirror_mode": {
        "name": "ipython",
        "version": 3
      },
      "file_extension": ".py",
      "mimetype": "text/x-python",
      "name": "python",
      "nbconvert_exporter": "python",
      "pygments_lexer": "ipython3",
      "version": "3.8.3"
    },
    "colab": {
      "provenance": []
    }
  },
  "nbformat": 4,
  "nbformat_minor": 0
}